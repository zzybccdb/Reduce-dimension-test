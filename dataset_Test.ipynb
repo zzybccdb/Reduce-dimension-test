{
 "cells": [
  {
   "cell_type": "code",
   "execution_count": null,
   "metadata": {},
   "outputs": [],
   "source": [
    "import psycopg2\n",
    "from psycopg2 import sql"
   ]
  },
  {
   "cell_type": "code",
   "execution_count": null,
   "metadata": {},
   "outputs": [],
   "source": [
    "config = {\n",
    "    'host': '140.113.210.26',\n",
    "    'user': 'jxcode',\n",
    "    'password': 'uccujxcode',\n",
    "    'dbname': 'baa87699-e895-43bd-80c2-81e3810d75fc',\n",
    "    'sslmode': 'prefer',\n",
    "    'schema': 'economic',\n",
    "}\n",
    "conn_string = \"host={host} user={user} dbname={dbname} password={password} sslmode={sslmode}\"\n",
    "self.conn = psycopg2.connect(conn_string.format(**config))"
   ]
  }
 ],
 "metadata": {
  "kernelspec": {
   "display_name": "Python 3",
   "language": "python",
   "name": "python3"
  },
  "language_info": {
   "codemirror_mode": {
    "name": "ipython",
    "version": 3
   },
   "file_extension": ".py",
   "mimetype": "text/x-python",
   "name": "python",
   "nbconvert_exporter": "python",
   "pygments_lexer": "ipython3",
   "version": "3.6.7"
  }
 },
 "nbformat": 4,
 "nbformat_minor": 2
}
