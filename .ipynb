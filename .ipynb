{
 "cells": [
  {
   "cell_type": "code",
   "execution_count": 1,
   "metadata": {},
   "outputs": [],
   "source": [
    "import database\n",
    "from dataset import Dataset\n",
    "from ae_test import AutoencoderTest\n",
    "import torch.optim as optim\n",
    "import torch\n",
    "from tqdm import tqdm_notebook\n",
    "import torch.nn.functional as F"
   ]
  },
  {
   "cell_type": "code",
   "execution_count": 2,
   "metadata": {},
   "outputs": [],
   "source": [
    "def distance(data, eps=1e-8):\n",
    "    n = data.shape[0]\n",
    "    distance_matrix = []\n",
    "    data = data.to(data.device)\n",
    "    for i in tqdm_notebook(range(n)):\n",
    "        dist = data - data[i:i+1].repeat(n, 1)\n",
    "        dist = dist.pow(2).sum(1)\n",
    "        dist = (dist+eps).sqrt()\n",
    "        dist[i] = 0\n",
    "        distance_matrix.append(dist)\n",
    "    distance_matrix = torch.cat(distance_matrix,0).view(n,n)\n",
    "    distance_matrix = distance_matrix.cpu()\n",
    "    mask = torch.ones(n,n)\n",
    "    mask = torch.triu(mask,diagonal=1)\n",
    "    mean = distance_matrix[mask>0].mean()\n",
    "#     print(\"######:\", mean)\n",
    "    distance_matrix[mask>0] = distance_matrix[mask>0]/mean\n",
    "    return distance_matrix[mask>0]"
   ]
  },
  {
   "cell_type": "code",
   "execution_count": 3,
   "metadata": {},
   "outputs": [],
   "source": [
    "device = torch.device('cuda')\n",
    "BATCH_SIZE = 64\n",
    "LEARNING_RATE = 1e-3"
   ]
  },
  {
   "cell_type": "code",
   "execution_count": 4,
   "metadata": {},
   "outputs": [],
   "source": [
    "db = database.DEFAULT_DB()\n",
    "db.setUp()"
   ]
  },
  {
   "cell_type": "code",
   "execution_count": null,
   "metadata": {},
   "outputs": [],
   "source": [
    "def experiment(train_dataset_name, test_dataset_name, col=None):\n",
    "    # load training data\n",
    "    dataset = Dataset(db, train_dataset_name)\n",
    "    if col is not None:\n",
    "        dataset.set_columns(col)\n",
    "    dataset.load(BATCH_SIZE, 1, 1)\n",
    "    \n",
    "    MAX_EPOCH = 10000 // len(dataset.dataloader) + 1\n",
    "    INPUT_DIM = len(dataset.columns)\n",
    "    \n",
    "    # define network\n",
    "    model = AutoencoderTest(input_dim=INPUT_DIM, lw=1).to(device)\n",
    "    optimizer = optim.Adam(model.parameters(), lr=LEARNING_RATE)\n",
    "    \n",
    "    # training\n",
    "    for epoch in tqdm_notebook(range(MAX_EPOCH)):\n",
    "        for data in dataset.dataloader:\n",
    "            input_data, output_data = data[:, :INPUT_DIM], data[:, INPUT_DIM:]\n",
    "            input_data = input_data.to(device)\n",
    "            output_data = output_data.to(device)\n",
    "            optimizer.zero_grad()\n",
    "            _, loss, _ = model.loss(input_data, output_data, dataset.mean)\n",
    "            loss.backward()\n",
    "            optimizer.step()\n",
    "            \n",
    "    # load test_data\n",
    "    test_dataset = Dataset(db, test_dataset_name)\n",
    "    if col is not None:\n",
    "        test_dataset.set_columns(col)\n",
    "    test_dataset.load(BATCH_SIZE, 1, 1, normalizer=dataset.normalizer)\n",
    "    test_data = test_dataset.dataloader.dataset[:, :INPUT_DIM]\n",
    "    \n",
    "    # inference\n",
    "    test_z = model(test_data.to(device))\n",
    "    \n",
    "    xd = distance(data=test_data.detach().cpu())\n",
    "    zd = distance(data=test_z.detach().cpu())\n",
    "    loss_n = F.mse_loss(xd,zd)\n",
    "#     print(\"dist loss:\",loss_n)\n",
    "    return loss_n"
   ]
  },
  {
   "cell_type": "code",
   "execution_count": null,
   "metadata": {},
   "outputs": [],
   "source": [
    "arr11 = []\n",
    "arr22 = []\n",
    "arr12 = []\n",
    "arr21 = []\n",
    "arr01 = []\n",
    "arr02 = []"
   ]
  },
  {
   "cell_type": "code",
   "execution_count": null,
   "metadata": {},
   "outputs": [
    {
     "data": {
      "application/vnd.jupyter.widget-view+json": {
       "model_id": "2eb7129c51934cff8be170377953bfd0",
       "version_major": 2,
       "version_minor": 0
      },
      "text/plain": [
       "HBox(children=(IntProgress(value=0, max=10), HTML(value='')))"
      ]
     },
     "metadata": {},
     "output_type": "display_data"
    },
    {
     "name": "stdout",
     "output_type": "stream",
     "text": [
      "new dataset: mrt_in_hour_eng_abbr1108\n",
      "input_dim: 108\n"
     ]
    },
    {
     "data": {
      "application/vnd.jupyter.widget-view+json": {
       "model_id": "7c2efeff32b5404fa1153aae02605c1d",
       "version_major": 2,
       "version_minor": 0
      },
      "text/plain": [
       "HBox(children=(IntProgress(value=0, max=112), HTML(value='')))"
      ]
     },
     "metadata": {},
     "output_type": "display_data"
    },
    {
     "name": "stdout",
     "output_type": "stream",
     "text": [
      "new dataset: mrt_in_hour_eng_abbr1108\n"
     ]
    },
    {
     "data": {
      "application/vnd.jupyter.widget-view+json": {
       "model_id": "8ad6d546441a4009add1f761407b7e29",
       "version_major": 2,
       "version_minor": 0
      },
      "text/plain": [
       "HBox(children=(IntProgress(value=0, max=5755), HTML(value='')))"
      ]
     },
     "metadata": {},
     "output_type": "display_data"
    },
    {
     "data": {
      "application/vnd.jupyter.widget-view+json": {
       "model_id": "6f272d0f82024f4ebe2f7786552bac0f",
       "version_major": 2,
       "version_minor": 0
      },
      "text/plain": [
       "HBox(children=(IntProgress(value=0, max=5755), HTML(value='')))"
      ]
     },
     "metadata": {},
     "output_type": "display_data"
    },
    {
     "name": "stdout",
     "output_type": "stream",
     "text": [
      "new dataset: mrt_in_hour_eng_abbr0801\n",
      "input_dim: 108\n"
     ]
    },
    {
     "data": {
      "application/vnd.jupyter.widget-view+json": {
       "model_id": "4de4418334a8403d95725bd3693d6325",
       "version_major": 2,
       "version_minor": 0
      },
      "text/plain": [
       "HBox(children=(IntProgress(value=0, max=197), HTML(value='')))"
      ]
     },
     "metadata": {},
     "output_type": "display_data"
    },
    {
     "name": "stdout",
     "output_type": "stream",
     "text": [
      "new dataset: mrt_in_hour_eng_abbr0801\n"
     ]
    },
    {
     "data": {
      "application/vnd.jupyter.widget-view+json": {
       "model_id": "a8e6251ea5734cd5a4df0db7bd76f4e4",
       "version_major": 2,
       "version_minor": 0
      },
      "text/plain": [
       "HBox(children=(IntProgress(value=0, max=3218), HTML(value='')))"
      ]
     },
     "metadata": {},
     "output_type": "display_data"
    },
    {
     "data": {
      "application/vnd.jupyter.widget-view+json": {
       "model_id": "9f5b835ad1a4430098779aa0a10c70ac",
       "version_major": 2,
       "version_minor": 0
      },
      "text/plain": [
       "HBox(children=(IntProgress(value=0, max=3218), HTML(value='')))"
      ]
     },
     "metadata": {},
     "output_type": "display_data"
    },
    {
     "name": "stdout",
     "output_type": "stream",
     "text": [
      "new dataset: mrt_in_hour_eng_abbr1108\n",
      "input_dim: 108\n"
     ]
    },
    {
     "data": {
      "application/vnd.jupyter.widget-view+json": {
       "model_id": "32b34790370b4b9d84716063f3ea69a9",
       "version_major": 2,
       "version_minor": 0
      },
      "text/plain": [
       "HBox(children=(IntProgress(value=0, max=112), HTML(value='')))"
      ]
     },
     "metadata": {},
     "output_type": "display_data"
    },
    {
     "name": "stdout",
     "output_type": "stream",
     "text": [
      "new dataset: mrt_in_hour_eng_abbr0801\n"
     ]
    },
    {
     "data": {
      "application/vnd.jupyter.widget-view+json": {
       "model_id": "31daf36b1c8145768429dab2cd992b1f",
       "version_major": 2,
       "version_minor": 0
      },
      "text/plain": [
       "HBox(children=(IntProgress(value=0, max=3218), HTML(value='')))"
      ]
     },
     "metadata": {},
     "output_type": "display_data"
    },
    {
     "data": {
      "application/vnd.jupyter.widget-view+json": {
       "model_id": "0ae8caa551dc45b2b64a462686408022",
       "version_major": 2,
       "version_minor": 0
      },
      "text/plain": [
       "HBox(children=(IntProgress(value=0, max=3218), HTML(value='')))"
      ]
     },
     "metadata": {},
     "output_type": "display_data"
    },
    {
     "name": "stdout",
     "output_type": "stream",
     "text": [
      "new dataset: mrt_in_hour_eng_abbr0801\n",
      "input_dim: 108\n"
     ]
    },
    {
     "data": {
      "application/vnd.jupyter.widget-view+json": {
       "model_id": "eb9175acb1dd4a62801030484f3c1d47",
       "version_major": 2,
       "version_minor": 0
      },
      "text/plain": [
       "HBox(children=(IntProgress(value=0, max=197), HTML(value='')))"
      ]
     },
     "metadata": {},
     "output_type": "display_data"
    },
    {
     "name": "stdout",
     "output_type": "stream",
     "text": [
      "new dataset: mrt_in_hour_eng_abbr1108\n"
     ]
    },
    {
     "data": {
      "application/vnd.jupyter.widget-view+json": {
       "model_id": "68871b4d731d48d292feb90b066bcfde",
       "version_major": 2,
       "version_minor": 0
      },
      "text/plain": [
       "HBox(children=(IntProgress(value=0, max=5755), HTML(value='')))"
      ]
     },
     "metadata": {},
     "output_type": "display_data"
    },
    {
     "data": {
      "application/vnd.jupyter.widget-view+json": {
       "model_id": "7ef55b0f6a404f3eb9c30c2c47f57b8d",
       "version_major": 2,
       "version_minor": 0
      },
      "text/plain": [
       "HBox(children=(IntProgress(value=0, max=5755), HTML(value='')))"
      ]
     },
     "metadata": {},
     "output_type": "display_data"
    },
    {
     "name": "stdout",
     "output_type": "stream",
     "text": [
      "new dataset: mrt_in_hour_eng_abbr\n",
      "input_dim: 108\n"
     ]
    },
    {
     "data": {
      "application/vnd.jupyter.widget-view+json": {
       "model_id": "1c6ef228148c4804a4b4a881a61d8470",
       "version_major": 2,
       "version_minor": 0
      },
      "text/plain": [
       "HBox(children=(IntProgress(value=0, max=71), HTML(value='')))"
      ]
     },
     "metadata": {},
     "output_type": "display_data"
    }
   ],
   "source": [
    "\n",
    "for i in tqdm_notebook(range(10)):\n",
    "    arr11.append(experiment('mrt_in_hour_eng_abbr1108', 'mrt_in_hour_eng_abbr1108'))\n",
    "    arr22.append(experiment('mrt_in_hour_eng_abbr0801', 'mrt_in_hour_eng_abbr0801'))\n",
    "\n",
    "    arr12.append(experiment('mrt_in_hour_eng_abbr1108', 'mrt_in_hour_eng_abbr0801'))\n",
    "    arr21.append(experiment('mrt_in_hour_eng_abbr0801', 'mrt_in_hour_eng_abbr1108'))\n",
    "\n",
    "    arr01.append(experiment('mrt_in_hour_eng_abbr', 'mrt_in_hour_eng_abbr1108'))\n",
    "    arr02.append(experiment('mrt_in_hour_eng_abbr', 'mrt_in_hour_eng_abbr0801'))"
   ]
  },
  {
   "cell_type": "code",
   "execution_count": null,
   "metadata": {},
   "outputs": [],
   "source": [
    "# cur_col = [\n",
    "#     'PP','LDPE','HDPE','EG_contract','EG_OUCC','PVC','SM_GPPC','VCM','Butadiene','Nylons',\n",
    "#     'SM_US_contract','WTI_Futures','SM_US','DubaiCrudeOil','BrentOilFutures','BrentOil','WTI','Ethyl_acetate','Isopropanol','Singapore_RSS3'\n",
    "# ]\n",
    "# # experiment('plastics_and_chemicals_en_0713', 'plastics_and_chemicals_en_0713', cur_col)\n",
    "# experiment('plastics_and_chemicals_en1318', 'plastics_and_chemicals_en1318', cur_col)\n",
    "\n",
    "\n",
    "# experiment('plastics_and_chemicals_en_0713', 'plastics_and_chemicals_en1318', cur_col)\n",
    "# experiment('plastics_and_chemicals_en1318', 'plastics_and_chemicals_en_0713', cur_col)\n",
    "\n",
    "# experiment('plastics_and_chemicals_en', 'plastics_and_chemicals_en1318', cur_col)\n",
    "# experiment('plastics_and_chemicals_en', 'plastics_and_chemicals_en_0713', cur_col)"
   ]
  },
  {
   "cell_type": "code",
   "execution_count": null,
   "metadata": {},
   "outputs": [],
   "source": [
    "# cur_col = [\n",
    "#     'temp','hum','windspeed','casual','registered','cnt'\n",
    "# ]\n",
    "# experiment('bike_sharing_2011', 'bike_sharing_2011', cur_col)\n",
    "# experiment('bike_sharing_2012', 'bike_sharing_2012', cur_col)\n",
    "           \n",
    "# experiment('bike_sharing_2011', 'bike_sharing_2012', cur_col)\n",
    "# experiment('bike_sharing_2012', 'bike_sharing_2011', cur_col)\n",
    "           \n",
    "# experiment('bike_sharing', 'bike_sharing_2012', cur_col)\n",
    "# experiment('bike_sharing', 'bike_sharing_2011', cur_col)"
   ]
  }
 ],
 "metadata": {
  "kernelspec": {
   "display_name": "Python 3",
   "language": "python",
   "name": "python3"
  },
  "language_info": {
   "codemirror_mode": {
    "name": "ipython",
    "version": 3
   },
   "file_extension": ".py",
   "mimetype": "text/x-python",
   "name": "python",
   "nbconvert_exporter": "python",
   "pygments_lexer": "ipython3",
   "version": "3.6.7"
  }
 },
 "nbformat": 4,
 "nbformat_minor": 2
}
